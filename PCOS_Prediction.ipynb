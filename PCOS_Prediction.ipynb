{
  "nbformat": 4,
  "nbformat_minor": 0,
  "metadata": {
    "colab": {
      "name": "ML_mini_project.ipynb",
      "provenance": [],
      "collapsed_sections": []
    },
    "kernelspec": {
      "name": "python3",
      "display_name": "Python 3"
    },
    "language_info": {
      "name": "python"
    }
  },
  "cells": [
    {
      "cell_type": "markdown",
      "metadata": {
        "id": "ER7_DVlO7Hi-"
      },
      "source": [
        "**Import Libraries**\n",
        "\n",
        "---\n",
        "\n"
      ]
    },
    {
      "cell_type": "code",
      "metadata": {
        "id": "RLWprhBu02-j"
      },
      "source": [
        "import pandas as pd\n",
        "import numpy as np\n",
        "import matplotlib.pyplot as plt\n",
        "%matplotlib inline\n",
        "import seaborn as sns"
      ],
      "execution_count": 28,
      "outputs": []
    },
    {
      "cell_type": "code",
      "metadata": {
        "id": "ld9OsAsqqvRY",
        "colab": {
          "base_uri": "https://localhost:8080/"
        },
        "outputId": "a52c9359-7bbe-4d83-887a-6ea3ebbe6a5d"
      },
      "source": [
        "from google.colab import drive\n",
        "drive.mount('/content/drive')"
      ],
      "execution_count": 29,
      "outputs": [
        {
          "output_type": "stream",
          "text": [
            "Drive already mounted at /content/drive; to attempt to forcibly remount, call drive.mount(\"/content/drive\", force_remount=True).\n"
          ],
          "name": "stdout"
        }
      ]
    },
    {
      "cell_type": "markdown",
      "metadata": {
        "id": "iMLYaPFm65VT"
      },
      "source": [
        "**Load the Data**\n",
        "\n",
        "---\n",
        "\n"
      ]
    },
    {
      "cell_type": "code",
      "metadata": {
        "colab": {
          "base_uri": "https://localhost:8080/",
          "height": 287
        },
        "id": "vJUoKCZH16D5",
        "outputId": "3bfabbfd-648d-4c50-912f-b088793fad7c"
      },
      "source": [
        "pcos = pd.read_csv(r'/content/drive/MyDrive/projects-sem6/PCOS_data.csv')\n",
        "pcos.head()"
      ],
      "execution_count": 30,
      "outputs": [
        {
          "output_type": "execute_result",
          "data": {
            "text/html": [
              "<div>\n",
              "<style scoped>\n",
              "    .dataframe tbody tr th:only-of-type {\n",
              "        vertical-align: middle;\n",
              "    }\n",
              "\n",
              "    .dataframe tbody tr th {\n",
              "        vertical-align: top;\n",
              "    }\n",
              "\n",
              "    .dataframe thead th {\n",
              "        text-align: right;\n",
              "    }\n",
              "</style>\n",
              "<table border=\"1\" class=\"dataframe\">\n",
              "  <thead>\n",
              "    <tr style=\"text-align: right;\">\n",
              "      <th></th>\n",
              "      <th>Sl. No</th>\n",
              "      <th>Patient File No.</th>\n",
              "      <th>PCOS (Y/N)</th>\n",
              "      <th>Age (yrs)</th>\n",
              "      <th>Weight (Kg)</th>\n",
              "      <th>Height(Cm)</th>\n",
              "      <th>BMI</th>\n",
              "      <th>Blood Group</th>\n",
              "      <th>Pulse rate(bpm)</th>\n",
              "      <th>RR (breaths/min)</th>\n",
              "      <th>Hb(g/dl)</th>\n",
              "      <th>Cycle(R/I)</th>\n",
              "      <th>Cycle length(days)</th>\n",
              "      <th>Marraige Status (Yrs)</th>\n",
              "      <th>Pregnant(Y/N)</th>\n",
              "      <th>No. of abortions</th>\n",
              "      <th>I   beta-HCG(mIU/mL)</th>\n",
              "      <th>II    beta-HCG(mIU/mL)</th>\n",
              "      <th>FSH(mIU/mL)</th>\n",
              "      <th>LH(mIU/mL)</th>\n",
              "      <th>FSH/LH</th>\n",
              "      <th>Hip(inch)</th>\n",
              "      <th>Waist(inch)</th>\n",
              "      <th>Waist:Hip Ratio</th>\n",
              "      <th>TSH (mIU/L)</th>\n",
              "      <th>AMH(ng/mL)</th>\n",
              "      <th>PRL(ng/mL)</th>\n",
              "      <th>Vit D3 (ng/mL)</th>\n",
              "      <th>PRG(ng/mL)</th>\n",
              "      <th>RBS(mg/dl)</th>\n",
              "      <th>Weight gain(Y/N)</th>\n",
              "      <th>hair growth(Y/N)</th>\n",
              "      <th>Skin darkening (Y/N)</th>\n",
              "      <th>Hair loss(Y/N)</th>\n",
              "      <th>Pimples(Y/N)</th>\n",
              "      <th>Fast food (Y/N)</th>\n",
              "      <th>Reg.Exercise(Y/N)</th>\n",
              "      <th>BP _Systolic (mmHg)</th>\n",
              "      <th>BP _Diastolic (mmHg)</th>\n",
              "      <th>Follicle No. (L)</th>\n",
              "      <th>Follicle No. (R)</th>\n",
              "      <th>Avg. F size (L) (mm)</th>\n",
              "      <th>Avg. F size (R) (mm)</th>\n",
              "      <th>Endometrium (mm)</th>\n",
              "      <th>Unnamed: 44</th>\n",
              "    </tr>\n",
              "  </thead>\n",
              "  <tbody>\n",
              "    <tr>\n",
              "      <th>0</th>\n",
              "      <td>1</td>\n",
              "      <td>1</td>\n",
              "      <td>0</td>\n",
              "      <td>28</td>\n",
              "      <td>44.6</td>\n",
              "      <td>152.0</td>\n",
              "      <td>19.3</td>\n",
              "      <td>15</td>\n",
              "      <td>78</td>\n",
              "      <td>22</td>\n",
              "      <td>10.48</td>\n",
              "      <td>2</td>\n",
              "      <td>5</td>\n",
              "      <td>7.0</td>\n",
              "      <td>0</td>\n",
              "      <td>0</td>\n",
              "      <td>1.99</td>\n",
              "      <td>1.99</td>\n",
              "      <td>7.95</td>\n",
              "      <td>3.68</td>\n",
              "      <td>2.16</td>\n",
              "      <td>36</td>\n",
              "      <td>30</td>\n",
              "      <td>0.83</td>\n",
              "      <td>0.68</td>\n",
              "      <td>2.07</td>\n",
              "      <td>45.16</td>\n",
              "      <td>17.1</td>\n",
              "      <td>0.57</td>\n",
              "      <td>92.0</td>\n",
              "      <td>0</td>\n",
              "      <td>0</td>\n",
              "      <td>0</td>\n",
              "      <td>0</td>\n",
              "      <td>0</td>\n",
              "      <td>1.0</td>\n",
              "      <td>0</td>\n",
              "      <td>110</td>\n",
              "      <td>80</td>\n",
              "      <td>3</td>\n",
              "      <td>3</td>\n",
              "      <td>18.0</td>\n",
              "      <td>18.0</td>\n",
              "      <td>8.5</td>\n",
              "      <td>NaN</td>\n",
              "    </tr>\n",
              "    <tr>\n",
              "      <th>1</th>\n",
              "      <td>2</td>\n",
              "      <td>2</td>\n",
              "      <td>0</td>\n",
              "      <td>36</td>\n",
              "      <td>65.0</td>\n",
              "      <td>161.5</td>\n",
              "      <td>24.9</td>\n",
              "      <td>15</td>\n",
              "      <td>74</td>\n",
              "      <td>20</td>\n",
              "      <td>11.70</td>\n",
              "      <td>2</td>\n",
              "      <td>5</td>\n",
              "      <td>11.0</td>\n",
              "      <td>1</td>\n",
              "      <td>0</td>\n",
              "      <td>60.80</td>\n",
              "      <td>1.99</td>\n",
              "      <td>6.73</td>\n",
              "      <td>1.09</td>\n",
              "      <td>6.17</td>\n",
              "      <td>38</td>\n",
              "      <td>32</td>\n",
              "      <td>0.84</td>\n",
              "      <td>3.16</td>\n",
              "      <td>1.53</td>\n",
              "      <td>20.09</td>\n",
              "      <td>61.3</td>\n",
              "      <td>0.97</td>\n",
              "      <td>92.0</td>\n",
              "      <td>0</td>\n",
              "      <td>0</td>\n",
              "      <td>0</td>\n",
              "      <td>0</td>\n",
              "      <td>0</td>\n",
              "      <td>0.0</td>\n",
              "      <td>0</td>\n",
              "      <td>120</td>\n",
              "      <td>70</td>\n",
              "      <td>3</td>\n",
              "      <td>5</td>\n",
              "      <td>15.0</td>\n",
              "      <td>14.0</td>\n",
              "      <td>3.7</td>\n",
              "      <td>NaN</td>\n",
              "    </tr>\n",
              "    <tr>\n",
              "      <th>2</th>\n",
              "      <td>3</td>\n",
              "      <td>3</td>\n",
              "      <td>1</td>\n",
              "      <td>33</td>\n",
              "      <td>68.8</td>\n",
              "      <td>165.0</td>\n",
              "      <td>25.3</td>\n",
              "      <td>11</td>\n",
              "      <td>72</td>\n",
              "      <td>18</td>\n",
              "      <td>11.80</td>\n",
              "      <td>2</td>\n",
              "      <td>5</td>\n",
              "      <td>10.0</td>\n",
              "      <td>1</td>\n",
              "      <td>0</td>\n",
              "      <td>494.08</td>\n",
              "      <td>494.08</td>\n",
              "      <td>5.54</td>\n",
              "      <td>0.88</td>\n",
              "      <td>6.30</td>\n",
              "      <td>40</td>\n",
              "      <td>36</td>\n",
              "      <td>0.90</td>\n",
              "      <td>2.54</td>\n",
              "      <td>6.63</td>\n",
              "      <td>10.52</td>\n",
              "      <td>49.7</td>\n",
              "      <td>0.36</td>\n",
              "      <td>84.0</td>\n",
              "      <td>0</td>\n",
              "      <td>0</td>\n",
              "      <td>0</td>\n",
              "      <td>1</td>\n",
              "      <td>1</td>\n",
              "      <td>1.0</td>\n",
              "      <td>0</td>\n",
              "      <td>120</td>\n",
              "      <td>80</td>\n",
              "      <td>13</td>\n",
              "      <td>15</td>\n",
              "      <td>18.0</td>\n",
              "      <td>20.0</td>\n",
              "      <td>10.0</td>\n",
              "      <td>NaN</td>\n",
              "    </tr>\n",
              "    <tr>\n",
              "      <th>3</th>\n",
              "      <td>4</td>\n",
              "      <td>4</td>\n",
              "      <td>0</td>\n",
              "      <td>37</td>\n",
              "      <td>65.0</td>\n",
              "      <td>148.0</td>\n",
              "      <td>29.7</td>\n",
              "      <td>13</td>\n",
              "      <td>72</td>\n",
              "      <td>20</td>\n",
              "      <td>12.00</td>\n",
              "      <td>2</td>\n",
              "      <td>5</td>\n",
              "      <td>4.0</td>\n",
              "      <td>0</td>\n",
              "      <td>0</td>\n",
              "      <td>1.99</td>\n",
              "      <td>1.99</td>\n",
              "      <td>8.06</td>\n",
              "      <td>2.36</td>\n",
              "      <td>3.42</td>\n",
              "      <td>42</td>\n",
              "      <td>36</td>\n",
              "      <td>0.86</td>\n",
              "      <td>16.41</td>\n",
              "      <td>1.22</td>\n",
              "      <td>36.90</td>\n",
              "      <td>33.4</td>\n",
              "      <td>0.36</td>\n",
              "      <td>76.0</td>\n",
              "      <td>0</td>\n",
              "      <td>0</td>\n",
              "      <td>0</td>\n",
              "      <td>0</td>\n",
              "      <td>0</td>\n",
              "      <td>0.0</td>\n",
              "      <td>0</td>\n",
              "      <td>120</td>\n",
              "      <td>70</td>\n",
              "      <td>2</td>\n",
              "      <td>2</td>\n",
              "      <td>15.0</td>\n",
              "      <td>14.0</td>\n",
              "      <td>7.5</td>\n",
              "      <td>NaN</td>\n",
              "    </tr>\n",
              "    <tr>\n",
              "      <th>4</th>\n",
              "      <td>5</td>\n",
              "      <td>5</td>\n",
              "      <td>0</td>\n",
              "      <td>25</td>\n",
              "      <td>52.0</td>\n",
              "      <td>161.0</td>\n",
              "      <td>20.1</td>\n",
              "      <td>11</td>\n",
              "      <td>72</td>\n",
              "      <td>18</td>\n",
              "      <td>10.00</td>\n",
              "      <td>2</td>\n",
              "      <td>5</td>\n",
              "      <td>1.0</td>\n",
              "      <td>1</td>\n",
              "      <td>0</td>\n",
              "      <td>801.45</td>\n",
              "      <td>801.45</td>\n",
              "      <td>3.98</td>\n",
              "      <td>0.90</td>\n",
              "      <td>4.42</td>\n",
              "      <td>37</td>\n",
              "      <td>30</td>\n",
              "      <td>0.81</td>\n",
              "      <td>3.57</td>\n",
              "      <td>2.26</td>\n",
              "      <td>30.09</td>\n",
              "      <td>43.8</td>\n",
              "      <td>0.38</td>\n",
              "      <td>84.0</td>\n",
              "      <td>0</td>\n",
              "      <td>0</td>\n",
              "      <td>0</td>\n",
              "      <td>1</td>\n",
              "      <td>0</td>\n",
              "      <td>0.0</td>\n",
              "      <td>0</td>\n",
              "      <td>120</td>\n",
              "      <td>80</td>\n",
              "      <td>3</td>\n",
              "      <td>4</td>\n",
              "      <td>16.0</td>\n",
              "      <td>14.0</td>\n",
              "      <td>7.0</td>\n",
              "      <td>NaN</td>\n",
              "    </tr>\n",
              "  </tbody>\n",
              "</table>\n",
              "</div>"
            ],
            "text/plain": [
              "   Sl. No  Patient File No.  ...  Endometrium (mm)  Unnamed: 44\n",
              "0       1                 1  ...               8.5          NaN\n",
              "1       2                 2  ...               3.7          NaN\n",
              "2       3                 3  ...              10.0          NaN\n",
              "3       4                 4  ...               7.5          NaN\n",
              "4       5                 5  ...               7.0          NaN\n",
              "\n",
              "[5 rows x 45 columns]"
            ]
          },
          "metadata": {
            "tags": []
          },
          "execution_count": 30
        }
      ]
    },
    {
      "cell_type": "markdown",
      "metadata": {
        "id": "Gu3ywdFL7Sr3"
      },
      "source": [
        "**Inspect the Data**\n",
        "\n",
        "---\n",
        "\n"
      ]
    },
    {
      "cell_type": "code",
      "metadata": {
        "colab": {
          "base_uri": "https://localhost:8080/"
        },
        "id": "JAjiu1bW2SLg",
        "outputId": "21cd15e8-376e-4709-e4a6-41f2a2b72bbe"
      },
      "source": [
        "pcos.info()"
      ],
      "execution_count": 31,
      "outputs": [
        {
          "output_type": "stream",
          "text": [
            "<class 'pandas.core.frame.DataFrame'>\n",
            "RangeIndex: 541 entries, 0 to 540\n",
            "Data columns (total 45 columns):\n",
            " #   Column                  Non-Null Count  Dtype  \n",
            "---  ------                  --------------  -----  \n",
            " 0   Sl. No                  541 non-null    int64  \n",
            " 1   Patient File No.        541 non-null    int64  \n",
            " 2   PCOS (Y/N)              541 non-null    int64  \n",
            " 3    Age (yrs)              541 non-null    int64  \n",
            " 4   Weight (Kg)             541 non-null    float64\n",
            " 5   Height(Cm)              541 non-null    float64\n",
            " 6   BMI                     541 non-null    float64\n",
            " 7   Blood Group             541 non-null    int64  \n",
            " 8   Pulse rate(bpm)         541 non-null    int64  \n",
            " 9   RR (breaths/min)        541 non-null    int64  \n",
            " 10  Hb(g/dl)                541 non-null    float64\n",
            " 11  Cycle(R/I)              541 non-null    int64  \n",
            " 12  Cycle length(days)      541 non-null    int64  \n",
            " 13  Marraige Status (Yrs)   540 non-null    float64\n",
            " 14  Pregnant(Y/N)           541 non-null    int64  \n",
            " 15  No. of abortions        541 non-null    int64  \n",
            " 16    I   beta-HCG(mIU/mL)  541 non-null    float64\n",
            " 17  II    beta-HCG(mIU/mL)  541 non-null    object \n",
            " 18  FSH(mIU/mL)             541 non-null    float64\n",
            " 19  LH(mIU/mL)              541 non-null    float64\n",
            " 20  FSH/LH                  541 non-null    float64\n",
            " 21  Hip(inch)               541 non-null    int64  \n",
            " 22  Waist(inch)             541 non-null    int64  \n",
            " 23  Waist:Hip Ratio         541 non-null    float64\n",
            " 24  TSH (mIU/L)             541 non-null    float64\n",
            " 25  AMH(ng/mL)              541 non-null    object \n",
            " 26  PRL(ng/mL)              541 non-null    float64\n",
            " 27  Vit D3 (ng/mL)          541 non-null    float64\n",
            " 28  PRG(ng/mL)              541 non-null    float64\n",
            " 29  RBS(mg/dl)              541 non-null    float64\n",
            " 30  Weight gain(Y/N)        541 non-null    int64  \n",
            " 31  hair growth(Y/N)        541 non-null    int64  \n",
            " 32  Skin darkening (Y/N)    541 non-null    int64  \n",
            " 33  Hair loss(Y/N)          541 non-null    int64  \n",
            " 34  Pimples(Y/N)            541 non-null    int64  \n",
            " 35  Fast food (Y/N)         540 non-null    float64\n",
            " 36  Reg.Exercise(Y/N)       541 non-null    int64  \n",
            " 37  BP _Systolic (mmHg)     541 non-null    int64  \n",
            " 38  BP _Diastolic (mmHg)    541 non-null    int64  \n",
            " 39  Follicle No. (L)        541 non-null    int64  \n",
            " 40  Follicle No. (R)        541 non-null    int64  \n",
            " 41  Avg. F size (L) (mm)    541 non-null    float64\n",
            " 42  Avg. F size (R) (mm)    541 non-null    float64\n",
            " 43  Endometrium (mm)        541 non-null    float64\n",
            " 44  Unnamed: 44             2 non-null      object \n",
            "dtypes: float64(19), int64(23), object(3)\n",
            "memory usage: 190.3+ KB\n"
          ],
          "name": "stdout"
        }
      ]
    },
    {
      "cell_type": "markdown",
      "metadata": {
        "id": "fYnpxw8N7ZtF"
      },
      "source": [
        "**Two columns are of object(string) type, change it to numeric**\n",
        "\n",
        "---\n",
        "\n"
      ]
    },
    {
      "cell_type": "code",
      "metadata": {
        "id": "w0SeyW3b6WX0"
      },
      "source": [
        "for i in ['AMH(ng/mL)', 'II    beta-HCG(mIU/mL)']:\n",
        "    pcos[i] = pd.to_numeric(pcos[i], errors='coerce')"
      ],
      "execution_count": 32,
      "outputs": []
    },
    {
      "cell_type": "markdown",
      "metadata": {
        "id": "sMeUbWBz8DrC"
      },
      "source": [
        "Remove columns 'Sl. No', 'Patient File No.', 'Unnamed: 44' that do not have impact on the result."
      ]
    },
    {
      "cell_type": "code",
      "metadata": {
        "colab": {
          "base_uri": "https://localhost:8080/"
        },
        "id": "_yNhAEB98C6n",
        "outputId": "4d56bf9e-21c1-49e3-ddca-8ffb8513e50d"
      },
      "source": [
        "pcos = pcos.drop(['Sl. No', 'Patient File No.', 'Unnamed: 44'], axis =1)\n",
        "target = pcos.columns[:1].to_list()\n",
        "features = pcos.columns[1:].to_list()\n",
        "print(\"Total number of Features:\", len(features))"
      ],
      "execution_count": 33,
      "outputs": [
        {
          "output_type": "stream",
          "text": [
            "Total number of Features: 41\n"
          ],
          "name": "stdout"
        }
      ]
    },
    {
      "cell_type": "markdown",
      "metadata": {
        "id": "GR3yDn_38hFS"
      },
      "source": [
        "Check for any missing Values or NaN values"
      ]
    },
    {
      "cell_type": "code",
      "metadata": {
        "colab": {
          "base_uri": "https://localhost:8080/"
        },
        "id": "UsVMRjXt6yle",
        "outputId": "c7e30666-52f9-478a-c1f1-7bed5aaf368b"
      },
      "source": [
        "pcos.isnull().sum()"
      ],
      "execution_count": 34,
      "outputs": [
        {
          "output_type": "execute_result",
          "data": {
            "text/plain": [
              "PCOS (Y/N)                0\n",
              " Age (yrs)                0\n",
              "Weight (Kg)               0\n",
              "Height(Cm)                0\n",
              "BMI                       0\n",
              "Blood Group               0\n",
              "Pulse rate(bpm)           0\n",
              "RR (breaths/min)          0\n",
              "Hb(g/dl)                  0\n",
              "Cycle(R/I)                0\n",
              "Cycle length(days)        0\n",
              "Marraige Status (Yrs)     1\n",
              "Pregnant(Y/N)             0\n",
              "No. of abortions          0\n",
              "  I   beta-HCG(mIU/mL)    0\n",
              "II    beta-HCG(mIU/mL)    1\n",
              "FSH(mIU/mL)               0\n",
              "LH(mIU/mL)                0\n",
              "FSH/LH                    0\n",
              "Hip(inch)                 0\n",
              "Waist(inch)               0\n",
              "Waist:Hip Ratio           0\n",
              "TSH (mIU/L)               0\n",
              "AMH(ng/mL)                1\n",
              "PRL(ng/mL)                0\n",
              "Vit D3 (ng/mL)            0\n",
              "PRG(ng/mL)                0\n",
              "RBS(mg/dl)                0\n",
              "Weight gain(Y/N)          0\n",
              "hair growth(Y/N)          0\n",
              "Skin darkening (Y/N)      0\n",
              "Hair loss(Y/N)            0\n",
              "Pimples(Y/N)              0\n",
              "Fast food (Y/N)           1\n",
              "Reg.Exercise(Y/N)         0\n",
              "BP _Systolic (mmHg)       0\n",
              "BP _Diastolic (mmHg)      0\n",
              "Follicle No. (L)          0\n",
              "Follicle No. (R)          0\n",
              "Avg. F size (L) (mm)      0\n",
              "Avg. F size (R) (mm)      0\n",
              "Endometrium (mm)          0\n",
              "dtype: int64"
            ]
          },
          "metadata": {
            "tags": []
          },
          "execution_count": 34
        }
      ]
    },
    {
      "cell_type": "markdown",
      "metadata": {
        "id": "wTHBOqe480uM"
      },
      "source": [
        "Since the number of missing values is very low compared to the total record we can directly remove them."
      ]
    },
    {
      "cell_type": "code",
      "metadata": {
        "id": "ESSBXkbN8n0l",
        "colab": {
          "base_uri": "https://localhost:8080/"
        },
        "outputId": "84476634-05cb-44d4-b009-3d8f0932735c"
      },
      "source": [
        "pcos = pcos.dropna()\n",
        "print(\"Total number of Features:\", len(features))"
      ],
      "execution_count": 35,
      "outputs": [
        {
          "output_type": "stream",
          "text": [
            "Total number of Features: 41\n"
          ],
          "name": "stdout"
        }
      ]
    },
    {
      "cell_type": "markdown",
      "metadata": {
        "id": "A4S5bd_k0BtJ"
      },
      "source": [
        "**Chi Square Test**\n",
        "\n",
        "---\n",
        "\n"
      ]
    },
    {
      "cell_type": "markdown",
      "metadata": {
        "id": "b-d7ijha-2DG"
      },
      "source": [
        "Out of the 41 features, all the features might not influence the prediction. If we use all of them there could be a chance of overfitting. Thus we find a need for feature selection to identify top 30 parameters that influence our predition result. Hence we will use the Chi Square method to determine important features."
      ]
    },
    {
      "cell_type": "code",
      "metadata": {
        "colab": {
          "base_uri": "https://localhost:8080/",
          "height": 948
        },
        "id": "AUj_AItd9tR4",
        "outputId": "fdb65fd7-85d5-402c-ede9-c3965ecee07d"
      },
      "source": [
        "from sklearn.feature_selection import SelectKBest\n",
        "from sklearn.feature_selection import chi2\n",
        "\n",
        "num = 30\n",
        "\n",
        "bestfeatures = SelectKBest(score_func=chi2, k=num)\n",
        "fit = bestfeatures.fit(pcos[features], pcos[target])\n",
        "dfscores = pd.DataFrame(fit.scores_)\n",
        "dfcolumns = pd.DataFrame(pcos.columns)\n",
        "\n",
        "featureScores = pd.concat([dfcolumns, dfscores], axis=1)\n",
        "featureScores.columns = ['Feature','Score']\n",
        "featureScores = featureScores.sort_values(by='Score', ascending = False)\n",
        "featureScores = featureScores[featureScores.Feature != target[0]]\n",
        "featureScores = featureScores.reset_index(drop = True)\n",
        "featureScores[:num]"
      ],
      "execution_count": 36,
      "outputs": [
        {
          "output_type": "execute_result",
          "data": {
            "text/html": [
              "<div>\n",
              "<style scoped>\n",
              "    .dataframe tbody tr th:only-of-type {\n",
              "        vertical-align: middle;\n",
              "    }\n",
              "\n",
              "    .dataframe tbody tr th {\n",
              "        vertical-align: top;\n",
              "    }\n",
              "\n",
              "    .dataframe thead th {\n",
              "        text-align: right;\n",
              "    }\n",
              "</style>\n",
              "<table border=\"1\" class=\"dataframe\">\n",
              "  <thead>\n",
              "    <tr style=\"text-align: right;\">\n",
              "      <th></th>\n",
              "      <th>Feature</th>\n",
              "      <th>Score</th>\n",
              "    </tr>\n",
              "  </thead>\n",
              "  <tbody>\n",
              "    <tr>\n",
              "      <th>0</th>\n",
              "      <td>PRL(ng/mL)</td>\n",
              "      <td>9600.594045</td>\n",
              "    </tr>\n",
              "    <tr>\n",
              "      <th>1</th>\n",
              "      <td>No. of abortions</td>\n",
              "      <td>6899.358709</td>\n",
              "    </tr>\n",
              "    <tr>\n",
              "      <th>2</th>\n",
              "      <td>FSH(mIU/mL)</td>\n",
              "      <td>2572.753526</td>\n",
              "    </tr>\n",
              "    <tr>\n",
              "      <th>3</th>\n",
              "      <td>II    beta-HCG(mIU/mL)</td>\n",
              "      <td>1592.273459</td>\n",
              "    </tr>\n",
              "    <tr>\n",
              "      <th>4</th>\n",
              "      <td>I   beta-HCG(mIU/mL)</td>\n",
              "      <td>1012.628577</td>\n",
              "    </tr>\n",
              "    <tr>\n",
              "      <th>5</th>\n",
              "      <td>Follicle No. (L)</td>\n",
              "      <td>673.143812</td>\n",
              "    </tr>\n",
              "    <tr>\n",
              "      <th>6</th>\n",
              "      <td>BP _Diastolic (mmHg)</td>\n",
              "      <td>564.595226</td>\n",
              "    </tr>\n",
              "    <tr>\n",
              "      <th>7</th>\n",
              "      <td>TSH (mIU/L)</td>\n",
              "      <td>221.815736</td>\n",
              "    </tr>\n",
              "    <tr>\n",
              "      <th>8</th>\n",
              "      <td>LH(mIU/mL)</td>\n",
              "      <td>96.235867</td>\n",
              "    </tr>\n",
              "    <tr>\n",
              "      <th>9</th>\n",
              "      <td>hair growth(Y/N)</td>\n",
              "      <td>85.664994</td>\n",
              "    </tr>\n",
              "    <tr>\n",
              "      <th>10</th>\n",
              "      <td>Weight gain(Y/N)</td>\n",
              "      <td>84.038102</td>\n",
              "    </tr>\n",
              "    <tr>\n",
              "      <th>11</th>\n",
              "      <td>RBS(mg/dl)</td>\n",
              "      <td>65.013528</td>\n",
              "    </tr>\n",
              "    <tr>\n",
              "      <th>12</th>\n",
              "      <td>Age (yrs)</td>\n",
              "      <td>50.858288</td>\n",
              "    </tr>\n",
              "    <tr>\n",
              "      <th>13</th>\n",
              "      <td>Pimples(Y/N)</td>\n",
              "      <td>37.437317</td>\n",
              "    </tr>\n",
              "    <tr>\n",
              "      <th>14</th>\n",
              "      <td>Hb(g/dl)</td>\n",
              "      <td>27.793800</td>\n",
              "    </tr>\n",
              "    <tr>\n",
              "      <th>15</th>\n",
              "      <td>Vit D3 (ng/mL)</td>\n",
              "      <td>25.008276</td>\n",
              "    </tr>\n",
              "    <tr>\n",
              "      <th>16</th>\n",
              "      <td>Hair loss(Y/N)</td>\n",
              "      <td>23.562113</td>\n",
              "    </tr>\n",
              "    <tr>\n",
              "      <th>17</th>\n",
              "      <td>Cycle length(days)</td>\n",
              "      <td>19.710939</td>\n",
              "    </tr>\n",
              "    <tr>\n",
              "      <th>18</th>\n",
              "      <td>Height(Cm)</td>\n",
              "      <td>15.105580</td>\n",
              "    </tr>\n",
              "    <tr>\n",
              "      <th>19</th>\n",
              "      <td>Skin darkening (Y/N)</td>\n",
              "      <td>8.910647</td>\n",
              "    </tr>\n",
              "    <tr>\n",
              "      <th>20</th>\n",
              "      <td>Cycle(R/I)</td>\n",
              "      <td>8.230296</td>\n",
              "    </tr>\n",
              "    <tr>\n",
              "      <th>21</th>\n",
              "      <td>Follicle No. (R)</td>\n",
              "      <td>7.460844</td>\n",
              "    </tr>\n",
              "    <tr>\n",
              "      <th>22</th>\n",
              "      <td>FSH/LH</td>\n",
              "      <td>5.426396</td>\n",
              "    </tr>\n",
              "    <tr>\n",
              "      <th>23</th>\n",
              "      <td>Hip(inch)</td>\n",
              "      <td>5.219221</td>\n",
              "    </tr>\n",
              "    <tr>\n",
              "      <th>24</th>\n",
              "      <td>PRG(ng/mL)</td>\n",
              "      <td>4.779813</td>\n",
              "    </tr>\n",
              "    <tr>\n",
              "      <th>25</th>\n",
              "      <td>Avg. F size (L) (mm)</td>\n",
              "      <td>3.352904</td>\n",
              "    </tr>\n",
              "    <tr>\n",
              "      <th>26</th>\n",
              "      <td>Avg. F size (R) (mm)</td>\n",
              "      <td>3.144839</td>\n",
              "    </tr>\n",
              "    <tr>\n",
              "      <th>27</th>\n",
              "      <td>Pregnant(Y/N)</td>\n",
              "      <td>2.824165</td>\n",
              "    </tr>\n",
              "    <tr>\n",
              "      <th>28</th>\n",
              "      <td>Fast food (Y/N)</td>\n",
              "      <td>1.856357</td>\n",
              "    </tr>\n",
              "    <tr>\n",
              "      <th>29</th>\n",
              "      <td>Blood Group</td>\n",
              "      <td>1.235629</td>\n",
              "    </tr>\n",
              "  </tbody>\n",
              "</table>\n",
              "</div>"
            ],
            "text/plain": [
              "                   Feature        Score\n",
              "0               PRL(ng/mL)  9600.594045\n",
              "1         No. of abortions  6899.358709\n",
              "2              FSH(mIU/mL)  2572.753526\n",
              "3   II    beta-HCG(mIU/mL)  1592.273459\n",
              "4     I   beta-HCG(mIU/mL)  1012.628577\n",
              "5         Follicle No. (L)   673.143812\n",
              "6     BP _Diastolic (mmHg)   564.595226\n",
              "7              TSH (mIU/L)   221.815736\n",
              "8               LH(mIU/mL)    96.235867\n",
              "9         hair growth(Y/N)    85.664994\n",
              "10        Weight gain(Y/N)    84.038102\n",
              "11              RBS(mg/dl)    65.013528\n",
              "12               Age (yrs)    50.858288\n",
              "13            Pimples(Y/N)    37.437317\n",
              "14                Hb(g/dl)    27.793800\n",
              "15          Vit D3 (ng/mL)    25.008276\n",
              "16          Hair loss(Y/N)    23.562113\n",
              "17      Cycle length(days)    19.710939\n",
              "18             Height(Cm)     15.105580\n",
              "19    Skin darkening (Y/N)     8.910647\n",
              "20              Cycle(R/I)     8.230296\n",
              "21        Follicle No. (R)     7.460844\n",
              "22                  FSH/LH     5.426396\n",
              "23               Hip(inch)     5.219221\n",
              "24              PRG(ng/mL)     4.779813\n",
              "25    Avg. F size (L) (mm)     3.352904\n",
              "26    Avg. F size (R) (mm)     3.144839\n",
              "27           Pregnant(Y/N)     2.824165\n",
              "28         Fast food (Y/N)     1.856357\n",
              "29             Blood Group     1.235629"
            ]
          },
          "metadata": {
            "tags": []
          },
          "execution_count": 36
        }
      ]
    },
    {
      "cell_type": "code",
      "metadata": {
        "id": "E8lNAKNE_e3C",
        "colab": {
          "base_uri": "https://localhost:8080/"
        },
        "outputId": "b4420294-ae11-461e-b57e-daa1e6f5ccac"
      },
      "source": [
        "new_features = featureScores['Feature'].to_list()\n",
        "new_features = new_features[:num]\n",
        "new_features"
      ],
      "execution_count": 37,
      "outputs": [
        {
          "output_type": "execute_result",
          "data": {
            "text/plain": [
              "['PRL(ng/mL)',\n",
              " 'No. of abortions',\n",
              " 'FSH(mIU/mL)',\n",
              " 'II    beta-HCG(mIU/mL)',\n",
              " '  I   beta-HCG(mIU/mL)',\n",
              " 'Follicle No. (L)',\n",
              " 'BP _Diastolic (mmHg)',\n",
              " 'TSH (mIU/L)',\n",
              " 'LH(mIU/mL)',\n",
              " 'hair growth(Y/N)',\n",
              " 'Weight gain(Y/N)',\n",
              " 'RBS(mg/dl)',\n",
              " ' Age (yrs)',\n",
              " 'Pimples(Y/N)',\n",
              " 'Hb(g/dl)',\n",
              " 'Vit D3 (ng/mL)',\n",
              " 'Hair loss(Y/N)',\n",
              " 'Cycle length(days)',\n",
              " 'Height(Cm) ',\n",
              " 'Skin darkening (Y/N)',\n",
              " 'Cycle(R/I)',\n",
              " 'Follicle No. (R)',\n",
              " 'FSH/LH',\n",
              " 'Hip(inch)',\n",
              " 'PRG(ng/mL)',\n",
              " 'Avg. F size (L) (mm)',\n",
              " 'Avg. F size (R) (mm)',\n",
              " 'Pregnant(Y/N)',\n",
              " 'Fast food (Y/N)',\n",
              " 'Blood Group']"
            ]
          },
          "metadata": {
            "tags": []
          },
          "execution_count": 37
        }
      ]
    },
    {
      "cell_type": "markdown",
      "metadata": {
        "id": "LPUeuLXAFl9x"
      },
      "source": [
        "**Data Transformation - Chi Square**\n",
        "\n",
        "---\n",
        "\n"
      ]
    },
    {
      "cell_type": "code",
      "metadata": {
        "id": "T75c3ER9_jh1"
      },
      "source": [
        "from sklearn.preprocessing import StandardScaler\n",
        "from sklearn.pipeline import Pipeline\n",
        "from sklearn.compose import ColumnTransformer\n",
        "\n",
        "numerical_transformer = Pipeline(steps=[('scaler', StandardScaler())])\n",
        "\n",
        "preprocessor = ColumnTransformer(transformers=[('num', numerical_transformer, new_features)])"
      ],
      "execution_count": 38,
      "outputs": []
    },
    {
      "cell_type": "code",
      "metadata": {
        "id": "9uNXKVM7ELTS"
      },
      "source": [
        "from sklearn import svm\n",
        "from sklearn.ensemble import RandomForestClassifier\n",
        "\n",
        "from sklearn import metrics\n",
        "from sklearn.model_selection import KFold, cross_val_score, train_test_split"
      ],
      "execution_count": 39,
      "outputs": []
    },
    {
      "cell_type": "markdown",
      "metadata": {
        "id": "5jV1nwezFyqF"
      },
      "source": [
        "**Model Training - Chi Square**\n",
        "\n",
        "---\n",
        "\n"
      ]
    },
    {
      "cell_type": "code",
      "metadata": {
        "id": "KksowHYeEVfm"
      },
      "source": [
        "train, test = train_test_split(pcos, test_size = 0.2, random_state = 0)\n",
        "\n",
        "observations = pd.DataFrame()\n",
        "classifier = 'RandomForestClassifier'\n",
        "model =  RandomForestClassifier(n_estimators=200, random_state=0)\n",
        "\n",
        "cv = KFold(n_splits=5, random_state=0, shuffle=True)\n",
        "pipe = Pipeline(steps=[('preprocessor', preprocessor),('model', model)])\n",
        "observations[classifier] = (cross_val_score(pipe, train[new_features], np.ravel(train[target]), scoring='accuracy', cv=cv))"
      ],
      "execution_count": 40,
      "outputs": []
    },
    {
      "cell_type": "markdown",
      "metadata": {
        "id": "v8Lg0PxxE6Pu"
      },
      "source": [
        "**Evaluation - Chi Square**\n",
        "\n",
        "---\n",
        "\n"
      ]
    },
    {
      "cell_type": "code",
      "metadata": {
        "colab": {
          "base_uri": "https://localhost:8080/",
          "height": 78
        },
        "id": "jCDAdC5bE4WO",
        "outputId": "57fe90de-cb00-4139-90f6-050fbc2012c7"
      },
      "source": [
        "mean = pd.DataFrame(observations.mean(), index= [classifier])\n",
        "observations = pd.concat([observations,mean.T])\n",
        "observations.index=['Fold 1','Fold 2','Fold 3','Fold 4','Fold 5','Mean Accuracy']\n",
        "observations.T.sort_values(by=['Mean Accuracy'], ascending = False)"
      ],
      "execution_count": 41,
      "outputs": [
        {
          "output_type": "execute_result",
          "data": {
            "text/html": [
              "<div>\n",
              "<style scoped>\n",
              "    .dataframe tbody tr th:only-of-type {\n",
              "        vertical-align: middle;\n",
              "    }\n",
              "\n",
              "    .dataframe tbody tr th {\n",
              "        vertical-align: top;\n",
              "    }\n",
              "\n",
              "    .dataframe thead th {\n",
              "        text-align: right;\n",
              "    }\n",
              "</style>\n",
              "<table border=\"1\" class=\"dataframe\">\n",
              "  <thead>\n",
              "    <tr style=\"text-align: right;\">\n",
              "      <th></th>\n",
              "      <th>Fold 1</th>\n",
              "      <th>Fold 2</th>\n",
              "      <th>Fold 3</th>\n",
              "      <th>Fold 4</th>\n",
              "      <th>Fold 5</th>\n",
              "      <th>Mean Accuracy</th>\n",
              "    </tr>\n",
              "  </thead>\n",
              "  <tbody>\n",
              "    <tr>\n",
              "      <th>RandomForestClassifier</th>\n",
              "      <td>0.895349</td>\n",
              "      <td>0.930233</td>\n",
              "      <td>0.872093</td>\n",
              "      <td>0.918605</td>\n",
              "      <td>0.929412</td>\n",
              "      <td>0.909138</td>\n",
              "    </tr>\n",
              "  </tbody>\n",
              "</table>\n",
              "</div>"
            ],
            "text/plain": [
              "                          Fold 1    Fold 2  ...    Fold 5  Mean Accuracy\n",
              "RandomForestClassifier  0.895349  0.930233  ...  0.929412       0.909138\n",
              "\n",
              "[1 rows x 6 columns]"
            ]
          },
          "metadata": {
            "tags": []
          },
          "execution_count": 41
        }
      ]
    },
    {
      "cell_type": "markdown",
      "metadata": {
        "id": "nTDXppR6jfua"
      },
      "source": [
        "**ROC CURVE**\n",
        "\n",
        "This curve plots two parameters: True Positive Rate and False Positive Rate"
      ]
    },
    {
      "cell_type": "code",
      "metadata": {
        "id": "7waH9FQrFCxq"
      },
      "source": [
        "from sklearn.metrics import confusion_matrix\n",
        "\n",
        "ran_model = RandomForestClassifier(n_estimators=200, random_state=0)\n",
        "ran_pipe = Pipeline(steps=[('preprocessor', preprocessor), ('model', ran_model)])\n",
        "ran_pipe.fit(train[new_features], np.ravel(train[target]))\n",
        "pred = ran_pipe.predict(test[new_features])"
      ],
      "execution_count": 42,
      "outputs": []
    },
    {
      "cell_type": "code",
      "metadata": {
        "colab": {
          "base_uri": "https://localhost:8080/",
          "height": 385
        },
        "id": "VH8QSXa0FOhd",
        "outputId": "29a291eb-0489-43a9-c6cc-d8dcc2612386"
      },
      "source": [
        "plt.figure(dpi = 100)\n",
        "plt.title(\"Confusion Matrix - Chi square\")\n",
        "cf_matrix = confusion_matrix(np.ravel(test[target]), pred)\n",
        "cf_hm = sns.heatmap(cf_matrix, annot=True, cmap = 'rocket_r')"
      ],
      "execution_count": 43,
      "outputs": [
        {
          "output_type": "display_data",
          "data": {
            "image/png": "[encoded data removed]",
            "text/plain": [
              "<Figure size 600x400 with 2 Axes>"
            ]
          },
          "metadata": {
            "tags": [],
            "needs_background": "light"
          }
        }
      ]
    },
    {
      "cell_type": "code",
      "metadata": {
        "colab": {
          "base_uri": "https://localhost:8080/",
          "height": 404
        },
        "id": "91omLns-FXfq",
        "outputId": "70be9a44-0697-4f13-8786-38d7872434a5"
      },
      "source": [
        "import sklearn.metrics as metrics\n",
        "\n",
        "fpr, tpr, threshold = metrics.roc_curve(test[target], pred)\n",
        "roc_auc = metrics.auc(fpr, tpr)\n",
        "\n",
        "plt.figure(dpi = 100)\n",
        "plt.title('ROC curve for Random Forest Classifier - Chi square')\n",
        "plt.plot(fpr, tpr, 'b', label = 'AUC = %0.2f' % roc_auc)\n",
        "plt.legend(loc = 'lower right')\n",
        "plt.plot([0, 1], [0, 1],'r--')\n",
        "plt.xlim([0, 1])\n",
        "plt.ylim([0, 1])\n",
        "plt.ylabel('True Positive Rate(sensitivity)')\n",
        "plt.xlabel('False Positive Rate(specificity)')\n",
        "plt.show()"
      ],
      "execution_count": 44,
      "outputs": [
        {
          "output_type": "display_data",
          "data": {
            "image/png": "[encoded data removed]",
            "text/plain": [
              "<Figure size 600x400 with 1 Axes>"
            ]
          },
          "metadata": {
            "tags": [],
            "needs_background": "light"
          }
        }
      ]
    },
    {
      "cell_type": "markdown",
      "metadata": {
        "id": "EPopBu4ly7WR"
      },
      "source": [
        "**Information Gain**\n",
        "\n",
        "---\n",
        "\n"
      ]
    },
    {
      "cell_type": "code",
      "metadata": {
        "id": "RqZM8kRqFegw",
        "colab": {
          "base_uri": "https://localhost:8080/",
          "height": 919
        },
        "outputId": "b2c54675-3bb8-49cb-8e06-f0a4a67576a8"
      },
      "source": [
        "from sklearn.feature_selection import mutual_info_classif\n",
        "\n",
        "\n",
        "f = plt.figure()\n",
        "f.set_figheight(15)\n",
        "importances = mutual_info_classif(pcos[features], pcos[target])\n",
        "f_imp = pd.Series(importances, pcos.columns[1:])\n",
        "f_imp.plot(kind='barh', color='teal')\n",
        "plt.show()"
      ],
      "execution_count": 45,
      "outputs": [
        {
          "output_type": "stream",
          "text": [
            "/usr/local/lib/python3.7/dist-packages/sklearn/utils/validation.py:760: DataConversionWarning: A column-vector y was passed when a 1d array was expected. Please change the shape of y to (n_samples, ), for example using ravel().\n",
            "  y = column_or_1d(y, warn=True)\n"
          ],
          "name": "stderr"
        },
        {
          "output_type": "display_data",
          "data": {
            "image/png": "[encoded data removed]",
            "text/plain": [
              "<Figure size 432x1080 with 1 Axes>"
            ]
          },
          "metadata": {
            "tags": [],
            "needs_background": "light"
          }
        }
      ]
    },
    {
      "cell_type": "code",
      "metadata": {
        "id": "1p3YubvXt_mF",
        "colab": {
          "base_uri": "https://localhost:8080/"
        },
        "outputId": "79a1bb8f-e11a-48a7-a28f-5d0b8c09a6bc"
      },
      "source": [
        "info_gain = [(i, j) for i,j in zip(importances,features) ]\n",
        "info_gain.sort(reverse=True)\n",
        "ig_best = info_gain[:30]\n",
        "ig_features = [i[1] for i in ig_best]\n",
        "ig_features"
      ],
      "execution_count": 46,
      "outputs": [
        {
          "output_type": "execute_result",
          "data": {
            "text/plain": [
              "['Follicle No. (L)',\n",
              " 'Follicle No. (R)',\n",
              " 'hair growth(Y/N)',\n",
              " 'Weight gain(Y/N)',\n",
              " 'AMH(ng/mL)',\n",
              " 'Skin darkening (Y/N)',\n",
              " 'Fast food (Y/N)',\n",
              " 'FSH/LH',\n",
              " 'PRL(ng/mL)',\n",
              " 'Cycle(R/I)',\n",
              " 'Cycle length(days)',\n",
              " 'Hip(inch)',\n",
              " 'TSH (mIU/L)',\n",
              " 'Height(Cm) ',\n",
              " 'Waist(inch)',\n",
              " 'FSH(mIU/mL)',\n",
              " 'Avg. F size (L) (mm)',\n",
              " 'Waist:Hip Ratio',\n",
              " 'LH(mIU/mL)',\n",
              " 'Vit D3 (ng/mL)',\n",
              " 'Pimples(Y/N)',\n",
              " 'PRG(ng/mL)',\n",
              " ' Age (yrs)',\n",
              " 'Avg. F size (R) (mm)',\n",
              " 'Hb(g/dl)',\n",
              " 'Weight (Kg)',\n",
              " '  I   beta-HCG(mIU/mL)',\n",
              " 'BP _Diastolic (mmHg)',\n",
              " 'Marraige Status (Yrs)',\n",
              " 'BMI']"
            ]
          },
          "metadata": {
            "tags": []
          },
          "execution_count": 46
        }
      ]
    },
    {
      "cell_type": "markdown",
      "metadata": {
        "id": "Z84FyTy55zKy"
      },
      "source": [
        "**Data Transformation - IG**\n",
        "\n",
        "---\n",
        "\n"
      ]
    },
    {
      "cell_type": "code",
      "metadata": {
        "id": "Kdw7d8kL1Ru9"
      },
      "source": [
        "numerical_transformer = Pipeline(steps=[('scaler', StandardScaler())])\n",
        "\n",
        "preprocessor = ColumnTransformer(transformers=[('num', numerical_transformer, ig_features)])"
      ],
      "execution_count": 47,
      "outputs": []
    },
    {
      "cell_type": "markdown",
      "metadata": {
        "id": "HyKabOFw56tR"
      },
      "source": [
        "**Model Training - IG**\n",
        "\n",
        "---"
      ]
    },
    {
      "cell_type": "code",
      "metadata": {
        "id": "pJWxwML72xdl"
      },
      "source": [
        "train, test = train_test_split(pcos, test_size = 0.2, random_state = 0)\n",
        "\n",
        "observations = pd.DataFrame()\n",
        "classifier = 'RandomForestClassifier'\n",
        "model =  RandomForestClassifier(n_estimators=200, random_state=0)\n",
        "\n",
        "cv = KFold(n_splits=5, random_state=0, shuffle=True)\n",
        "pipe = Pipeline(steps=[('preprocessor', preprocessor),('model', model)])\n",
        "observations[classifier] = (cross_val_score(pipe, train[ig_features], np.ravel(train[target]), scoring='accuracy', cv=cv))"
      ],
      "execution_count": 48,
      "outputs": []
    },
    {
      "cell_type": "markdown",
      "metadata": {
        "id": "tDXvAV6k5-qj"
      },
      "source": [
        "**Evaluation - IG**\n",
        "\n",
        "---\n",
        "\n"
      ]
    },
    {
      "cell_type": "code",
      "metadata": {
        "colab": {
          "base_uri": "https://localhost:8080/",
          "height": 78
        },
        "id": "lPouxMd62tUk",
        "outputId": "3d9e3433-c8d7-42b1-ce62-63a417045fc1"
      },
      "source": [
        "mean = pd.DataFrame(observations.mean(), index= [classifier])\n",
        "observations = pd.concat([observations,mean.T])\n",
        "observations.index=['Fold 1','Fold 2','Fold 3','Fold 4','Fold 5','Mean Accuracy']\n",
        "observations.T.sort_values(by=['Mean Accuracy'], ascending = False)"
      ],
      "execution_count": 49,
      "outputs": [
        {
          "output_type": "execute_result",
          "data": {
            "text/html": [
              "<div>\n",
              "<style scoped>\n",
              "    .dataframe tbody tr th:only-of-type {\n",
              "        vertical-align: middle;\n",
              "    }\n",
              "\n",
              "    .dataframe tbody tr th {\n",
              "        vertical-align: top;\n",
              "    }\n",
              "\n",
              "    .dataframe thead th {\n",
              "        text-align: right;\n",
              "    }\n",
              "</style>\n",
              "<table border=\"1\" class=\"dataframe\">\n",
              "  <thead>\n",
              "    <tr style=\"text-align: right;\">\n",
              "      <th></th>\n",
              "      <th>Fold 1</th>\n",
              "      <th>Fold 2</th>\n",
              "      <th>Fold 3</th>\n",
              "      <th>Fold 4</th>\n",
              "      <th>Fold 5</th>\n",
              "      <th>Mean Accuracy</th>\n",
              "    </tr>\n",
              "  </thead>\n",
              "  <tbody>\n",
              "    <tr>\n",
              "      <th>RandomForestClassifier</th>\n",
              "      <td>0.895349</td>\n",
              "      <td>0.953488</td>\n",
              "      <td>0.860465</td>\n",
              "      <td>0.918605</td>\n",
              "      <td>0.929412</td>\n",
              "      <td>0.911464</td>\n",
              "    </tr>\n",
              "  </tbody>\n",
              "</table>\n",
              "</div>"
            ],
            "text/plain": [
              "                          Fold 1    Fold 2  ...    Fold 5  Mean Accuracy\n",
              "RandomForestClassifier  0.895349  0.953488  ...  0.929412       0.911464\n",
              "\n",
              "[1 rows x 6 columns]"
            ]
          },
          "metadata": {
            "tags": []
          },
          "execution_count": 49
        }
      ]
    },
    {
      "cell_type": "code",
      "metadata": {
        "id": "cGW5cvkK22Ol"
      },
      "source": [
        "ran_model = RandomForestClassifier(n_estimators=200, random_state=0)\n",
        "ran_pipe = Pipeline(steps=[('preprocessor', preprocessor), ('model', ran_model)])\n",
        "ran_pipe.fit(train[ig_features], np.ravel(train[target]))\n",
        "pred = ran_pipe.predict(test[ig_features])"
      ],
      "execution_count": 50,
      "outputs": []
    },
    {
      "cell_type": "code",
      "metadata": {
        "colab": {
          "base_uri": "https://localhost:8080/",
          "height": 385
        },
        "id": "GwhxI6UB27b9",
        "outputId": "14b88ad8-e0f2-4913-df42-97355ded7b01"
      },
      "source": [
        "plt.figure(dpi = 100)\n",
        "plt.title(\"Confusion Matrix - Information gain\")\n",
        "cf_matrix = confusion_matrix(np.ravel(test[target]), pred)\n",
        "cf_hm = sns.heatmap(cf_matrix, annot=True, cmap = 'rocket_r')"
      ],
      "execution_count": 51,
      "outputs": [
        {
          "output_type": "display_data",
          "data": {
            "image/png": "[encoded data removed]",
            "text/plain": [
              "<Figure size 600x400 with 2 Axes>"
            ]
          },
          "metadata": {
            "tags": [],
            "needs_background": "light"
          }
        }
      ]
    },
    {
      "cell_type": "markdown",
      "metadata": {
        "id": "flrm3do8SXLU"
      },
      "source": [
        "**ROC CURVE**\n",
        "\n",
        "This curve plots two parameters: True Positive Rate and False Positive Rate"
      ]
    },
    {
      "cell_type": "code",
      "metadata": {
        "colab": {
          "base_uri": "https://localhost:8080/",
          "height": 404
        },
        "id": "FB1S9VAO2--8",
        "outputId": "d08e255e-289e-4011-9da7-a399b9245ac5"
      },
      "source": [
        "import sklearn.metrics as metrics\n",
        "\n",
        "fpr, tpr, threshold = metrics.roc_curve(test[target], pred)\n",
        "roc_auc = metrics.auc(fpr, tpr)\n",
        "\n",
        "plt.figure(dpi = 100)\n",
        "plt.title('ROC curve for Random Forest Classifier - Information Gain')\n",
        "plt.plot(fpr, tpr, 'b', label = 'AUC = %0.2f' % roc_auc)\n",
        "plt.legend(loc = 'lower right')\n",
        "plt.plot([0, 1], [0, 1],'r--')\n",
        "plt.xlim([0, 1])\n",
        "plt.ylim([0, 1])\n",
        "plt.ylabel('True Positive Rate(sensitivity)')\n",
        "plt.xlabel('False Positive Rate(specificity)')\n",
        "plt.show()"
      ],
      "execution_count": 52,
      "outputs": [
        {
          "output_type": "display_data",
          "data": {
            "image/png": "[encoded data removed]",
            "text/plain": [
              "<Figure size 600x400 with 1 Axes>"
            ]
          },
          "metadata": {
            "tags": [],
            "needs_background": "light"
          }
        }
      ]
    }
  ]
}